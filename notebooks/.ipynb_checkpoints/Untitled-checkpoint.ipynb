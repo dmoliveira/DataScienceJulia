{
 "cells": [
  {
   "cell_type": "code",
   "execution_count": 58,
   "metadata": {
    "collapsed": false
   },
   "outputs": [
    {
     "name": "stderr",
     "output_type": "stream",
     "text": [
      "INFO: Precompiling module Gadfly...\n",
      "WARNING: New definition \n",
      "    +(AbstractArray{T<:Any, 2}, WoodburyMatrices.SymWoodbury) at /home/diego_oliveira/.julia/v0.4/WoodburyMatrices/src/SymWoodburyMatrices.jl:106\n",
      "is ambiguous with: \n",
      "    +(DataArrays.DataArray, AbstractArray) at /home/diego_oliveira/.julia/v0.4/DataArrays/src/operators.jl:276.\n",
      "To fix, define \n",
      "    +(DataArrays.DataArray{T<:Any, 2}, WoodburyMatrices.SymWoodbury)\n",
      "before the new definition.\n",
      "WARNING: New definition \n",
      "    +(AbstractArray{T<:Any, 2}, WoodburyMatrices.SymWoodbury) at /home/diego_oliveira/.julia/v0.4/WoodburyMatrices/src/SymWoodburyMatrices.jl:106\n",
      "is ambiguous with: \n",
      "    +(DataArrays.AbstractDataArray, AbstractArray) at /home/diego_oliveira/.julia/v0.4/DataArrays/src/operators.jl:300.\n",
      "To fix, define \n",
      "    +(DataArrays.AbstractDataArray{T<:Any, 2}, WoodburyMatrices.SymWoodbury)\n",
      "before the new definition.\n",
      "WARNING: New definition \n",
      "    +(AbstractArray{T<:Any, 2}, WoodburyMatrices.SymWoodbury) at /home/diego_oliveira/.julia/v0.4/WoodburyMatrices/src/SymWoodburyMatrices.jl:106\n",
      "is ambiguous with: \n",
      "    +(DataArrays.DataArray, AbstractArray) at /home/diego_oliveira/.julia/v0.4/DataArrays/src/operators.jl:276.\n",
      "To fix, define \n",
      "    +(DataArrays.DataArray{T<:Any, 2}, WoodburyMatrices.SymWoodbury)\n",
      "before the new definition.\n",
      "WARNING: New definition \n",
      "    +(AbstractArray{T<:Any, 2}, WoodburyMatrices.SymWoodbury) at /home/diego_oliveira/.julia/v0.4/WoodburyMatrices/src/SymWoodburyMatrices.jl:106\n",
      "is ambiguous with: \n",
      "    +(DataArrays.AbstractDataArray, AbstractArray) at /home/diego_oliveira/.julia/v0.4/DataArrays/src/operators.jl:300.\n",
      "To fix, define \n",
      "    +(DataArrays.AbstractDataArray{T<:Any, 2}, WoodburyMatrices.SymWoodbury)\n",
      "before the new definition.\n"
     ]
    }
   ],
   "source": [
    "using RDatasets\n",
    "using Gadfly"
   ]
  },
  {
   "cell_type": "code",
   "execution_count": 35,
   "metadata": {
    "collapsed": false
   },
   "outputs": [
    {
     "data": {
      "text/html": [
       "<table class=\"data-frame\"><tr><th></th><th>Model</th><th>MPG</th><th>Cyl</th><th>Disp</th><th>HP</th><th>DRat</th><th>WT</th><th>QSec</th><th>VS</th><th>AM</th><th>Gear</th><th>Carb</th></tr><tr><th>1</th><td>Mazda RX4</td><td>21.0</td><td>6</td><td>160.0</td><td>110</td><td>3.9</td><td>2.62</td><td>16.46</td><td>0</td><td>1</td><td>4</td><td>4</td></tr><tr><th>2</th><td>Mazda RX4 Wag</td><td>21.0</td><td>6</td><td>160.0</td><td>110</td><td>3.9</td><td>2.875</td><td>17.02</td><td>0</td><td>1</td><td>4</td><td>4</td></tr><tr><th>3</th><td>Datsun 710</td><td>22.8</td><td>4</td><td>108.0</td><td>93</td><td>3.85</td><td>2.32</td><td>18.61</td><td>1</td><td>1</td><td>4</td><td>1</td></tr><tr><th>4</th><td>Hornet 4 Drive</td><td>21.4</td><td>6</td><td>258.0</td><td>110</td><td>3.08</td><td>3.215</td><td>19.44</td><td>1</td><td>0</td><td>3</td><td>1</td></tr><tr><th>5</th><td>Hornet Sportabout</td><td>18.7</td><td>8</td><td>360.0</td><td>175</td><td>3.15</td><td>3.44</td><td>17.02</td><td>0</td><td>0</td><td>3</td><td>2</td></tr><tr><th>6</th><td>Valiant</td><td>18.1</td><td>6</td><td>225.0</td><td>105</td><td>2.76</td><td>3.46</td><td>20.22</td><td>1</td><td>0</td><td>3</td><td>1</td></tr><tr><th>7</th><td>Duster 360</td><td>14.3</td><td>8</td><td>360.0</td><td>245</td><td>3.21</td><td>3.57</td><td>15.84</td><td>0</td><td>0</td><td>3</td><td>4</td></tr><tr><th>8</th><td>Merc 240D</td><td>24.4</td><td>4</td><td>146.7</td><td>62</td><td>3.69</td><td>3.19</td><td>20.0</td><td>1</td><td>0</td><td>4</td><td>2</td></tr><tr><th>9</th><td>Merc 230</td><td>22.8</td><td>4</td><td>140.8</td><td>95</td><td>3.92</td><td>3.15</td><td>22.9</td><td>1</td><td>0</td><td>4</td><td>2</td></tr><tr><th>10</th><td>Merc 280</td><td>19.2</td><td>6</td><td>167.6</td><td>123</td><td>3.92</td><td>3.44</td><td>18.3</td><td>1</td><td>0</td><td>4</td><td>4</td></tr><tr><th>11</th><td>Merc 280C</td><td>17.8</td><td>6</td><td>167.6</td><td>123</td><td>3.92</td><td>3.44</td><td>18.9</td><td>1</td><td>0</td><td>4</td><td>4</td></tr><tr><th>12</th><td>Merc 450SE</td><td>16.4</td><td>8</td><td>275.8</td><td>180</td><td>3.07</td><td>4.07</td><td>17.4</td><td>0</td><td>0</td><td>3</td><td>3</td></tr><tr><th>13</th><td>Merc 450SL</td><td>17.3</td><td>8</td><td>275.8</td><td>180</td><td>3.07</td><td>3.73</td><td>17.6</td><td>0</td><td>0</td><td>3</td><td>3</td></tr><tr><th>14</th><td>Merc 450SLC</td><td>15.2</td><td>8</td><td>275.8</td><td>180</td><td>3.07</td><td>3.78</td><td>18.0</td><td>0</td><td>0</td><td>3</td><td>3</td></tr><tr><th>15</th><td>Cadillac Fleetwood</td><td>10.4</td><td>8</td><td>472.0</td><td>205</td><td>2.93</td><td>5.25</td><td>17.98</td><td>0</td><td>0</td><td>3</td><td>4</td></tr><tr><th>16</th><td>Lincoln Continental</td><td>10.4</td><td>8</td><td>460.0</td><td>215</td><td>3.0</td><td>5.424</td><td>17.82</td><td>0</td><td>0</td><td>3</td><td>4</td></tr><tr><th>17</th><td>Chrysler Imperial</td><td>14.7</td><td>8</td><td>440.0</td><td>230</td><td>3.23</td><td>5.345</td><td>17.42</td><td>0</td><td>0</td><td>3</td><td>4</td></tr><tr><th>18</th><td>Fiat 128</td><td>32.4</td><td>4</td><td>78.7</td><td>66</td><td>4.08</td><td>2.2</td><td>19.47</td><td>1</td><td>1</td><td>4</td><td>1</td></tr><tr><th>19</th><td>Honda Civic</td><td>30.4</td><td>4</td><td>75.7</td><td>52</td><td>4.93</td><td>1.615</td><td>18.52</td><td>1</td><td>1</td><td>4</td><td>2</td></tr><tr><th>20</th><td>Toyota Corolla</td><td>33.9</td><td>4</td><td>71.1</td><td>65</td><td>4.22</td><td>1.835</td><td>19.9</td><td>1</td><td>1</td><td>4</td><td>1</td></tr><tr><th>21</th><td>Toyota Corona</td><td>21.5</td><td>4</td><td>120.1</td><td>97</td><td>3.7</td><td>2.465</td><td>20.01</td><td>1</td><td>0</td><td>3</td><td>1</td></tr><tr><th>22</th><td>Dodge Challenger</td><td>15.5</td><td>8</td><td>318.0</td><td>150</td><td>2.76</td><td>3.52</td><td>16.87</td><td>0</td><td>0</td><td>3</td><td>2</td></tr><tr><th>23</th><td>AMC Javelin</td><td>15.2</td><td>8</td><td>304.0</td><td>150</td><td>3.15</td><td>3.435</td><td>17.3</td><td>0</td><td>0</td><td>3</td><td>2</td></tr><tr><th>24</th><td>Camaro Z28</td><td>13.3</td><td>8</td><td>350.0</td><td>245</td><td>3.73</td><td>3.84</td><td>15.41</td><td>0</td><td>0</td><td>3</td><td>4</td></tr><tr><th>25</th><td>Pontiac Firebird</td><td>19.2</td><td>8</td><td>400.0</td><td>175</td><td>3.08</td><td>3.845</td><td>17.05</td><td>0</td><td>0</td><td>3</td><td>2</td></tr><tr><th>26</th><td>Fiat X1-9</td><td>27.3</td><td>4</td><td>79.0</td><td>66</td><td>4.08</td><td>1.935</td><td>18.9</td><td>1</td><td>1</td><td>4</td><td>1</td></tr><tr><th>27</th><td>Porsche 914-2</td><td>26.0</td><td>4</td><td>120.3</td><td>91</td><td>4.43</td><td>2.14</td><td>16.7</td><td>0</td><td>1</td><td>5</td><td>2</td></tr><tr><th>28</th><td>Lotus Europa</td><td>30.4</td><td>4</td><td>95.1</td><td>113</td><td>3.77</td><td>1.513</td><td>16.9</td><td>1</td><td>1</td><td>5</td><td>2</td></tr><tr><th>29</th><td>Ford Pantera L</td><td>15.8</td><td>8</td><td>351.0</td><td>264</td><td>4.22</td><td>3.17</td><td>14.5</td><td>0</td><td>1</td><td>5</td><td>4</td></tr><tr><th>30</th><td>Ferrari Dino</td><td>19.7</td><td>6</td><td>145.0</td><td>175</td><td>3.62</td><td>2.77</td><td>15.5</td><td>0</td><td>1</td><td>5</td><td>6</td></tr><tr><th>&vellip;</th><td>&vellip;</td><td>&vellip;</td><td>&vellip;</td><td>&vellip;</td><td>&vellip;</td><td>&vellip;</td><td>&vellip;</td><td>&vellip;</td><td>&vellip;</td><td>&vellip;</td><td>&vellip;</td><td>&vellip;</td></tr></table>"
      ],
      "text/plain": [
       "32×12 DataFrames.DataFrame\n",
       "│ Row │ Model               │ MPG  │ Cyl │ Disp  │ HP  │ DRat │ WT    │ QSec  │\n",
       "├─────┼─────────────────────┼──────┼─────┼───────┼─────┼──────┼───────┼───────┤\n",
       "│ 1   │ \"Mazda RX4\"         │ 21.0 │ 6   │ 160.0 │ 110 │ 3.9  │ 2.62  │ 16.46 │\n",
       "│ 2   │ \"Mazda RX4 Wag\"     │ 21.0 │ 6   │ 160.0 │ 110 │ 3.9  │ 2.875 │ 17.02 │\n",
       "│ 3   │ \"Datsun 710\"        │ 22.8 │ 4   │ 108.0 │ 93  │ 3.85 │ 2.32  │ 18.61 │\n",
       "│ 4   │ \"Hornet 4 Drive\"    │ 21.4 │ 6   │ 258.0 │ 110 │ 3.08 │ 3.215 │ 19.44 │\n",
       "│ 5   │ \"Hornet Sportabout\" │ 18.7 │ 8   │ 360.0 │ 175 │ 3.15 │ 3.44  │ 17.02 │\n",
       "│ 6   │ \"Valiant\"           │ 18.1 │ 6   │ 225.0 │ 105 │ 2.76 │ 3.46  │ 20.22 │\n",
       "│ 7   │ \"Duster 360\"        │ 14.3 │ 8   │ 360.0 │ 245 │ 3.21 │ 3.57  │ 15.84 │\n",
       "│ 8   │ \"Merc 240D\"         │ 24.4 │ 4   │ 146.7 │ 62  │ 3.69 │ 3.19  │ 20.0  │\n",
       "│ 9   │ \"Merc 230\"          │ 22.8 │ 4   │ 140.8 │ 95  │ 3.92 │ 3.15  │ 22.9  │\n",
       "│ 10  │ \"Merc 280\"          │ 19.2 │ 6   │ 167.6 │ 123 │ 3.92 │ 3.44  │ 18.3  │\n",
       "│ 11  │ \"Merc 280C\"         │ 17.8 │ 6   │ 167.6 │ 123 │ 3.92 │ 3.44  │ 18.9  │\n",
       "⋮\n",
       "│ 21  │ \"Toyota Corona\"     │ 21.5 │ 4   │ 120.1 │ 97  │ 3.7  │ 2.465 │ 20.01 │\n",
       "│ 22  │ \"Dodge Challenger\"  │ 15.5 │ 8   │ 318.0 │ 150 │ 2.76 │ 3.52  │ 16.87 │\n",
       "│ 23  │ \"AMC Javelin\"       │ 15.2 │ 8   │ 304.0 │ 150 │ 3.15 │ 3.435 │ 17.3  │\n",
       "│ 24  │ \"Camaro Z28\"        │ 13.3 │ 8   │ 350.0 │ 245 │ 3.73 │ 3.84  │ 15.41 │\n",
       "│ 25  │ \"Pontiac Firebird\"  │ 19.2 │ 8   │ 400.0 │ 175 │ 3.08 │ 3.845 │ 17.05 │\n",
       "│ 26  │ \"Fiat X1-9\"         │ 27.3 │ 4   │ 79.0  │ 66  │ 4.08 │ 1.935 │ 18.9  │\n",
       "│ 27  │ \"Porsche 914-2\"     │ 26.0 │ 4   │ 120.3 │ 91  │ 4.43 │ 2.14  │ 16.7  │\n",
       "│ 28  │ \"Lotus Europa\"      │ 30.4 │ 4   │ 95.1  │ 113 │ 3.77 │ 1.513 │ 16.9  │\n",
       "│ 29  │ \"Ford Pantera L\"    │ 15.8 │ 8   │ 351.0 │ 264 │ 4.22 │ 3.17  │ 14.5  │\n",
       "│ 30  │ \"Ferrari Dino\"      │ 19.7 │ 6   │ 145.0 │ 175 │ 3.62 │ 2.77  │ 15.5  │\n",
       "│ 31  │ \"Maserati Bora\"     │ 15.0 │ 8   │ 301.0 │ 335 │ 3.54 │ 3.57  │ 14.6  │\n",
       "│ 32  │ \"Volvo 142E\"        │ 21.4 │ 4   │ 121.0 │ 109 │ 4.11 │ 2.78  │ 18.6  │\n",
       "\n",
       "│ Row │ VS │ AM │ Gear │ Carb │\n",
       "├─────┼────┼────┼──────┼──────┤\n",
       "│ 1   │ 0  │ 1  │ 4    │ 4    │\n",
       "│ 2   │ 0  │ 1  │ 4    │ 4    │\n",
       "│ 3   │ 1  │ 1  │ 4    │ 1    │\n",
       "│ 4   │ 1  │ 0  │ 3    │ 1    │\n",
       "│ 5   │ 0  │ 0  │ 3    │ 2    │\n",
       "│ 6   │ 1  │ 0  │ 3    │ 1    │\n",
       "│ 7   │ 0  │ 0  │ 3    │ 4    │\n",
       "│ 8   │ 1  │ 0  │ 4    │ 2    │\n",
       "│ 9   │ 1  │ 0  │ 4    │ 2    │\n",
       "│ 10  │ 1  │ 0  │ 4    │ 4    │\n",
       "│ 11  │ 1  │ 0  │ 4    │ 4    │\n",
       "⋮\n",
       "│ 21  │ 1  │ 0  │ 3    │ 1    │\n",
       "│ 22  │ 0  │ 0  │ 3    │ 2    │\n",
       "│ 23  │ 0  │ 0  │ 3    │ 2    │\n",
       "│ 24  │ 0  │ 0  │ 3    │ 4    │\n",
       "│ 25  │ 0  │ 0  │ 3    │ 2    │\n",
       "│ 26  │ 1  │ 1  │ 4    │ 1    │\n",
       "│ 27  │ 0  │ 1  │ 5    │ 2    │\n",
       "│ 28  │ 1  │ 1  │ 5    │ 2    │\n",
       "│ 29  │ 0  │ 1  │ 5    │ 4    │\n",
       "│ 30  │ 0  │ 1  │ 5    │ 6    │\n",
       "│ 31  │ 0  │ 1  │ 5    │ 8    │\n",
       "│ 32  │ 1  │ 1  │ 4    │ 2    │"
      ]
     },
     "execution_count": 35,
     "metadata": {},
     "output_type": "execute_result"
    }
   ],
   "source": [
    "mtcars = dataset(\"datasets\", \"mtcars\")"
   ]
  },
  {
   "cell_type": "code",
   "execution_count": null,
   "metadata": {
    "collapsed": true
   },
   "outputs": [],
   "source": [
    "mtcars[:new_field] = mean()"
   ]
  },
  {
   "cell_type": "code",
   "execution_count": 37,
   "metadata": {
    "collapsed": false
   },
   "outputs": [
    {
     "data": {
      "text/plain": [
       "(32,12)"
      ]
     },
     "execution_count": 37,
     "metadata": {},
     "output_type": "execute_result"
    }
   ],
   "source": [
    "size(mtcars)"
   ]
  },
  {
   "cell_type": "code",
   "execution_count": null,
   "metadata": {
    "collapsed": false
   },
   "outputs": [],
   "source": [
    "plot(mtcars, x=:Model, y=:HP, Geom.bar)"
   ]
  }
 ],
 "metadata": {
  "kernelspec": {
   "display_name": "Julia 0.4.5",
   "language": "julia",
   "name": "julia-0.4"
  },
  "language_info": {
   "file_extension": ".jl",
   "mimetype": "application/julia",
   "name": "julia",
   "version": "0.4.5"
  }
 },
 "nbformat": 4,
 "nbformat_minor": 1
}
